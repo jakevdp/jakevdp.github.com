{
 "metadata": {
  "name": "bayesian_blocks"
 },
 "nbformat": 3,
 "nbformat_minor": 0,
 "worksheets": [
  {
   "cells": [
    {
     "cell_type": "code",
     "collapsed": false,
     "input": [
      "# plot figures inline with matplotlib\n",
      "%pylab inline"
     ],
     "language": "python",
     "metadata": {},
     "outputs": [
      {
       "output_type": "stream",
       "stream": "stdout",
       "text": [
        "\n",
        "Welcome to pylab, a matplotlib-based Python environment [backend: module://IPython.zmq.pylab.backend_inline].\n",
        "For more information, type 'help(pylab)'.\n"
       ]
      }
     ],
     "prompt_number": 1
    },
    {
     "cell_type": "code",
     "collapsed": false,
     "input": [
      "# Define our test distribution: a mix of Cauchy-distributed variables\n",
      "import numpy as np\n",
      "from scipy import stats\n",
      "\n",
      "np.random.seed(0)\n",
      "x = np.concatenate([stats.cauchy(-5, 1.8).rvs(500),\n",
      "                    stats.cauchy(-4, 0.8).rvs(2000),\n",
      "                    stats.cauchy(-1, 0.3).rvs(500),\n",
      "                    stats.cauchy(2, 0.8).rvs(1000),\n",
      "                    stats.cauchy(4, 1.5).rvs(500)])\n",
      "\n",
      "# truncate values to a reasonable range\n",
      "x = x[(x > -15) & (x < 15)]"
     ],
     "language": "python",
     "metadata": {},
     "outputs": [],
     "prompt_number": 2
    },
    {
     "cell_type": "code",
     "collapsed": false,
     "input": [
      "# Histogram the result\n",
      "import pylab as pl\n",
      "H = pl.hist(x, normed=True)\n",
      "#pl.savefig('bayesblocks1.png')"
     ],
     "language": "python",
     "metadata": {},
     "outputs": [
      {
       "output_type": "display_data",
       "png": "[encoded data removed]"
      }
     ],
     "prompt_number": 3
    },
    {
     "cell_type": "code",
     "collapsed": false,
     "input": [
      "\n",
      "# Histogram with more bins\n",
      "H = pl.hist(x, bins=100, normed=True)\n",
      "#pl.savefig('bayesblocks2.png')"
     ],
     "language": "python",
     "metadata": {},
     "outputs": [
      {
       "output_type": "display_data",
       "png": "[encoded data removed]"
      }
     ],
     "prompt_number": 4
    },
    {
     "cell_type": "code",
     "collapsed": false,
     "input": [
      "def bayesian_blocks(t):\n",
      "    \"\"\"Bayesian Blocks Implementation\n",
      "\n",
      "    By Jake Vanderplas.  License: BSD\n",
      "    Based on algorithm outlined in http://adsabs.harvard.edu/abs/2012arXiv1207.5578S\n",
      "\n",
      "    Parameters\n",
      "    ----------\n",
      "    t : ndarray, length N\n",
      "        data to be histogrammed\n",
      "\n",
      "    Returns\n",
      "    -------\n",
      "    bins : ndarray\n",
      "        array containing the (N+1) bin edges\n",
      "\n",
      "    Notes\n",
      "    -----\n",
      "    This is an incomplete implementation: it may fail for some\n",
      "    datasets.  Alternate fitness functions and prior forms can\n",
      "    be found in the paper listed above.\n",
      "    \"\"\"\n",
      "    # copy and sort the array\n",
      "    t = np.sort(t)\n",
      "    N = t.size\n",
      "\n",
      "    # create length-(N + 1) array of cell edges\n",
      "    edges = np.concatenate([t[:1],\n",
      "                            0.5 * (t[1:] + t[:-1]),\n",
      "                            t[-1:]])\n",
      "    block_length = t[-1] - edges\n",
      "\n",
      "    # arrays needed for the iteration\n",
      "    nn_vec = np.ones(N)\n",
      "    best = np.zeros(N, dtype=float)\n",
      "    last = np.zeros(N, dtype=int)\n",
      "\n",
      "    #-----------------------------------------------------------------\n",
      "    # Start with first data cell; add one cell at each iteration\n",
      "    #-----------------------------------------------------------------\n",
      "    for K in range(N):\n",
      "        # Compute the width and count of the final bin for all possible\n",
      "        # locations of the K^th changepoint\n",
      "        width = block_length[:K + 1] - block_length[K + 1]\n",
      "        count_vec = np.cumsum(nn_vec[:K + 1][::-1])[::-1]\n",
      "\n",
      "        # evaluate fitness function for these possibilities\n",
      "        fit_vec = count_vec * (np.log(count_vec) - np.log(width))\n",
      "        fit_vec -= 4  # 4 comes from the prior on the number of changepoints\n",
      "        fit_vec[1:] += best[:K]\n",
      "\n",
      "        # find the max of the fitness: this is the K^th changepoint\n",
      "        i_max = np.argmax(fit_vec)\n",
      "        last[K] = i_max\n",
      "        best[K] = fit_vec[i_max]\n",
      "    \n",
      "    #-----------------------------------------------------------------\n",
      "    # Recover changepoints by iteratively peeling off the last block\n",
      "    #-----------------------------------------------------------------\n",
      "    change_points =  np.zeros(N, dtype=int)\n",
      "    i_cp = N\n",
      "    ind = N\n",
      "    while True:\n",
      "        i_cp -= 1\n",
      "        change_points[i_cp] = ind\n",
      "        if ind == 0:\n",
      "            break\n",
      "        ind = last[ind - 1]\n",
      "    change_points = change_points[i_cp:]\n",
      "\n",
      "    return edges[change_points]"
     ],
     "language": "python",
     "metadata": {},
     "outputs": [],
     "prompt_number": 5
    },
    {
     "cell_type": "code",
     "collapsed": false,
     "input": [
      "# plot a standard histogram in the background, with alpha transparency\n",
      "H1 = hist(x, bins=200, histtype='stepfilled', alpha=0.2, normed=True)\n",
      "# plot an adaptive-width histogram on top\n",
      "H2 = hist(x, bins=bayesian_blocks(x), color='black', histtype='step', normed=True)\n",
      "#pl.savefig('bayesblocks3.png')"
     ],
     "language": "python",
     "metadata": {},
     "outputs": [
      {
       "output_type": "display_data",
       "png": "[encoded data removed]"
      }
     ],
     "prompt_number": 6
    },
    {
     "cell_type": "code",
     "collapsed": false,
     "input": [],
     "language": "python",
     "metadata": {},
     "outputs": [],
     "prompt_number": 6
    }
   ],
   "metadata": {}
  }
 ]
}