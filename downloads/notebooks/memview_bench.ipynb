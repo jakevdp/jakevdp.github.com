{
 "metadata": {
  "name": "memview_bench"
 },
 "nbformat": 3,
 "nbformat_minor": 0,
 "worksheets": [
  {
   "cells": [
    {
     "cell_type": "heading",
     "level": 1,
     "metadata": {},
     "source": [
      "Typed Memoryview Benchmark"
     ]
    },
    {
     "cell_type": "markdown",
     "metadata": {},
     "source": [
      "This contains the implementations of the benchmarks described at http://jakevdp.github.com/blog/2012/08/08/memoryview-benchmarks.\n",
      "\n",
      "Here we'll use ipython's cython magic to compile and run the benchmarks."
     ]
    },
    {
     "cell_type": "code",
     "collapsed": false,
     "input": [
      "%load_ext cythonmagic\n",
      "\n",
      "# Define our test array\n",
      "import numpy as np\n",
      "X = np.random.random((500, 3))"
     ],
     "language": "python",
     "metadata": {},
     "outputs": [],
     "prompt_number": 1
    },
    {
     "cell_type": "heading",
     "level": 2,
     "metadata": {},
     "source": [
      "Python-only Version"
     ]
    },
    {
     "cell_type": "code",
     "collapsed": false,
     "input": [
      "import numpy as np\n",
      "\n",
      "def euclidean_distance(x1, x2):\n",
      "    x1 = np.asarray(x1)\n",
      "    x2 = np.asarray(x2)\n",
      "    return np.sqrt(np.sum((x1 - x2) ** 2))\n",
      "\n",
      "def pairwise_v1(X, metric=euclidean_distance):\n",
      "    X = np.asarray(X)\n",
      "    \n",
      "    n_samples, n_dim = X.shape\n",
      "\n",
      "    D = np.empty((n_samples, n_samples))\n",
      "\n",
      "    for i in range(n_samples):\n",
      "        for j in range(n_samples):\n",
      " \t    D[i, j] = metric(X[i], X[j])\n",
      "\n",
      "    return D"
     ],
     "language": "python",
     "metadata": {},
     "outputs": [],
     "prompt_number": 2
    },
    {
     "cell_type": "code",
     "collapsed": false,
     "input": [
      "%timeit pairwise_v1(X)"
     ],
     "language": "python",
     "metadata": {},
     "outputs": [
      {
       "output_type": "stream",
       "stream": "stdout",
       "text": [
        "1 loops, best of 3: 6.6 s per loop\n"
       ]
      }
     ],
     "prompt_number": 3
    },
    {
     "cell_type": "heading",
     "level": 2,
     "metadata": {},
     "source": [
      "Cython + numpy"
     ]
    },
    {
     "cell_type": "code",
     "collapsed": false,
     "input": [
      "%%cython\n",
      "\n",
      "import numpy as np\n",
      "\n",
      "cimport numpy as np\n",
      "from libc.math cimport sqrt\n",
      "cimport cython\n",
      "\n",
      "# define a function pointer to a metric\n",
      "ctypedef double (*metric_ptr)(np.ndarray, np.ndarray)\n",
      "\n",
      "@cython.boundscheck(False)\n",
      "@cython.wraparound(False)\n",
      "cdef double euclidean_distance(np.ndarray[double, ndim=1, mode='c'] x1,\n",
      "                               np.ndarray[double, ndim=1, mode='c'] x2):\n",
      "    cdef double tmp, d\n",
      "    cdef np.intp_t i, N\n",
      "\n",
      "    d = 0\n",
      "    N = x1.shape[0]\n",
      "    # assume x2 has the same shape as x1.  This could be dangerous!\n",
      "\n",
      "    for i in range(N):\n",
      "        tmp = x1[i] - x2[i]\n",
      "        d += tmp * tmp\n",
      "\n",
      "    return sqrt(d)\n",
      "\n",
      "\n",
      "@cython.boundscheck(False)\n",
      "@cython.wraparound(False)\n",
      "def pairwise_v2(np.ndarray[double, ndim=2, mode='c'] X not None,\n",
      "                metric = 'euclidean'):\n",
      "    cdef metric_ptr dist_func\n",
      "    if metric == 'euclidean':\n",
      "        dist_func = &euclidean_distance\n",
      "    else:\n",
      "        raise ValueError(\"unrecognized metric\")\n",
      "\n",
      "    cdef np.intp_t i, j, n_samples\n",
      "    n_samples = X.shape[0]\n",
      "\n",
      "    cdef np.ndarray[double, ndim=2, mode='c'] D = np.empty((n_samples,\n",
      "                                                            n_samples))\n",
      "    for i in range(n_samples):\n",
      "        for j in range(n_samples):\n",
      "            D[i, j] = dist_func(X[i], X[j])\n",
      "\n",
      "    return D"
     ],
     "language": "python",
     "metadata": {},
     "outputs": [],
     "prompt_number": 4
    },
    {
     "cell_type": "code",
     "collapsed": false,
     "input": [
      "%timeit pairwise_v2(X)"
     ],
     "language": "python",
     "metadata": {},
     "outputs": [
      {
       "output_type": "stream",
       "stream": "stdout",
       "text": [
        "1 loops, best of 3: 668 ms per loop\n"
       ]
      }
     ],
     "prompt_number": 5
    },
    {
     "cell_type": "heading",
     "level": 2,
     "metadata": {},
     "source": [
      "Cython + memviews (with slicing)"
     ]
    },
    {
     "cell_type": "code",
     "collapsed": false,
     "input": [
      "%%cython\n",
      "import numpy as np\n",
      "\n",
      "cimport numpy as np\n",
      "from libc.math cimport sqrt\n",
      "cimport cython\n",
      "\n",
      "# define a function pointer to a metric\n",
      "ctypedef double (*metric_ptr)(double[::1], double[::1])\n",
      "\n",
      "@cython.boundscheck(False)\n",
      "@cython.wraparound(False)\n",
      "cdef double euclidean_distance(double[::1] x1,\n",
      "                               double[::1] x2):\n",
      "    cdef double tmp, d\n",
      "    cdef np.intp_t i, N\n",
      "\n",
      "    d = 0\n",
      "    N = x1.shape[0]\n",
      "    # assume x2 has the same shape as x1.  This could be dangerous!\n",
      "\n",
      "    for i in range(N):\n",
      "        tmp = x1[i] - x2[i]\n",
      "        d += tmp * tmp\n",
      "\n",
      "    return sqrt(d)\n",
      "\n",
      "\n",
      "@cython.boundscheck(False)\n",
      "@cython.wraparound(False)\n",
      "def pairwise_v3(double[:, ::1] X not None,\n",
      "                metric = 'euclidean'):\n",
      "    cdef metric_ptr dist_func\n",
      "    if metric == 'euclidean':\n",
      "        dist_func = &euclidean_distance\n",
      "    else:\n",
      "        raise ValueError(\"unrecognized metric\")\n",
      "\n",
      "    cdef np.intp_t i, j, n_samples\n",
      "    n_samples = X.shape[0]\n",
      "\n",
      "    cdef double[:, ::1] D = np.empty((n_samples, n_samples))\n",
      "\n",
      "    for i in range(n_samples):\n",
      "        for j in range(n_samples):\n",
      "            D[i, j] = dist_func(X[i], X[j])\n",
      "\n",
      "    return D"
     ],
     "language": "python",
     "metadata": {},
     "outputs": [],
     "prompt_number": 6
    },
    {
     "cell_type": "code",
     "collapsed": false,
     "input": [
      "%timeit pairwise_v3(X)"
     ],
     "language": "python",
     "metadata": {},
     "outputs": [
      {
       "output_type": "stream",
       "stream": "stdout",
       "text": [
        "10 loops, best of 3: 22 ms per loop\n"
       ]
      }
     ],
     "prompt_number": 7
    },
    {
     "cell_type": "heading",
     "level": 2,
     "metadata": {},
     "source": [
      "Cython + raw pointers"
     ]
    },
    {
     "cell_type": "code",
     "collapsed": false,
     "input": [
      "%%cython\n",
      "\n",
      "import numpy as np\n",
      "\n",
      "cimport numpy as np\n",
      "from libc.math cimport sqrt\n",
      "cimport cython\n",
      "\n",
      "# define a function pointer to a metric\n",
      "ctypedef double (*metric_ptr)(double*, double*, int)\n",
      "\n",
      "@cython.boundscheck(False)\n",
      "@cython.wraparound(False)\n",
      "cdef double euclidean_distance(double* x1,\n",
      "                               double* x2,\n",
      "                               int N):\n",
      "    cdef double tmp, d\n",
      "    cdef np.intp_t i\n",
      "\n",
      "    d = 0\n",
      "\n",
      "    for i in range(N):\n",
      "        tmp = x1[i] - x2[i]\n",
      "        d += tmp * tmp\n",
      "\n",
      "    return sqrt(d)\n",
      "\n",
      "\n",
      "@cython.boundscheck(False)\n",
      "@cython.wraparound(False)\n",
      "def pairwise_v4(double[:, ::1] X not None,\n",
      "                metric = 'euclidean'):\n",
      "    cdef metric_ptr dist_func\n",
      "    if metric == 'euclidean':\n",
      "        dist_func = &euclidean_distance\n",
      "    else:\n",
      "        raise ValueError(\"unrecognized metric\")\n",
      "\n",
      "    cdef np.intp_t i, j, n_samples, n_dim\n",
      "    n_samples = X.shape[0]\n",
      "    n_dim = X.shape[1]\n",
      "\n",
      "    cdef double[:, ::1] D = np.empty((n_samples, n_samples))\n",
      "\n",
      "    cdef double* Dptr = &D[0, 0]\n",
      "    cdef double* Xptr = &X[0, 0]\n",
      "\n",
      "    for i in range(n_samples):\n",
      "        for j in range(n_samples):\n",
      "            Dptr[i * n_samples + j] = dist_func(Xptr + i * n_dim,\n",
      "                                                Xptr + j * n_dim,\n",
      "                                                n_dim)\n",
      "    return D"
     ],
     "language": "python",
     "metadata": {},
     "outputs": [],
     "prompt_number": 8
    },
    {
     "cell_type": "code",
     "collapsed": false,
     "input": [
      "%timeit pairwise_v4(X)"
     ],
     "language": "python",
     "metadata": {},
     "outputs": [
      {
       "output_type": "stream",
       "stream": "stdout",
       "text": [
        "100 loops, best of 3: 2.44 ms per loop\n"
       ]
      }
     ],
     "prompt_number": 9
    },
    {
     "cell_type": "heading",
     "level": 2,
     "metadata": {},
     "source": [
      "Cython + memviews (no slicing)"
     ]
    },
    {
     "cell_type": "code",
     "collapsed": false,
     "input": [
      "%%cython\n",
      "\n",
      "import numpy as np\n",
      "\n",
      "cimport numpy as np\n",
      "from libc.math cimport sqrt\n",
      "cimport cython\n",
      "\n",
      "# define a function pointer to a metric\n",
      "ctypedef double (*metric_ptr)(double[:, ::1], np.intp_t, np.intp_t)\n",
      "\n",
      "@cython.boundscheck(False)\n",
      "@cython.wraparound(False)\n",
      "cdef double euclidean_distance(double[:, ::1] X,\n",
      "                               np.intp_t i1, np.intp_t i2):\n",
      "    cdef double tmp, d\n",
      "    cdef np.intp_t j\n",
      "\n",
      "    d = 0\n",
      "\n",
      "    for j in range(X.shape[1]):\n",
      "        tmp = X[i1, j] - X[i2, j]\n",
      "        d += tmp * tmp\n",
      "\n",
      "    return sqrt(d)\n",
      "\n",
      "\n",
      "@cython.boundscheck(False)\n",
      "@cython.wraparound(False)\n",
      "def pairwise_v5(double[:, ::1] X not None,\n",
      "                metric = 'euclidean'):\n",
      "    cdef metric_ptr dist_func\n",
      "    if metric == 'euclidean':\n",
      "        dist_func = &euclidean_distance\n",
      "    else:\n",
      "        raise ValueError(\"unrecognized metric\")\n",
      "\n",
      "    cdef np.intp_t i, j, n_samples, n_dim\n",
      "    n_samples = X.shape[0]\n",
      "    n_dim = X.shape[1]\n",
      "\n",
      "    cdef double[:, ::1] D = np.empty((n_samples, n_samples))\n",
      "\n",
      "    for i in range(n_samples):\n",
      "        for j in range(n_samples):\n",
      "            D[i, j] = dist_func(X, i, j)\n",
      "\n",
      "    return D"
     ],
     "language": "python",
     "metadata": {},
     "outputs": [
      {
       "output_type": "stream",
       "stream": "stdout",
       "text": [
        "missing cimport: /home/vanderplas/.config/ipython/cython/_cython_magic_1c925a99ed742e8928654e6eeb078ef5.pyx\n",
        "cython\n"
       ]
      }
     ],
     "prompt_number": 10
    },
    {
     "cell_type": "code",
     "collapsed": false,
     "input": [
      "%timeit pairwise_v5(X)"
     ],
     "language": "python",
     "metadata": {},
     "outputs": [
      {
       "output_type": "stream",
       "stream": "stdout",
       "text": [
        "100 loops, best of 3: 2.48 ms per loop\n"
       ]
      }
     ],
     "prompt_number": 11
    },
    {
     "cell_type": "heading",
     "level": 2,
     "metadata": {},
     "source": [
      "Other Similar Routines"
     ]
    },
    {
     "cell_type": "markdown",
     "metadata": {},
     "source": [
      "Here we'll compare the benchmark to two similar routines from `scipy` and `scikit-learn`"
     ]
    },
    {
     "cell_type": "code",
     "collapsed": false,
     "input": [
      "from scipy.spatial.distance import cdist\n",
      "%timeit cdist(X, X)"
     ],
     "language": "python",
     "metadata": {},
     "outputs": [
      {
       "output_type": "stream",
       "stream": "stdout",
       "text": [
        "100 loops, best of 3: 3.27 ms per loop\n"
       ]
      }
     ],
     "prompt_number": 12
    },
    {
     "cell_type": "code",
     "collapsed": false,
     "input": [
      "from sklearn.metrics import pairwise_distances\n",
      "%timeit pairwise_distances(X, X)"
     ],
     "language": "python",
     "metadata": {},
     "outputs": [
      {
       "output_type": "stream",
       "stream": "stdout",
       "text": [
        "100 loops, best of 3: 13 ms per loop\n"
       ]
      }
     ],
     "prompt_number": 13
    }
   ],
   "metadata": {}
  }
 ]
}