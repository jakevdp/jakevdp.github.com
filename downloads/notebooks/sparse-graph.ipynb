{
 "metadata": {
  "name": "sparse-graph"
 },
 "nbformat": 3,
 "nbformat_minor": 0,
 "worksheets": [
  {
   "cells": [
    {
     "cell_type": "heading",
     "level": 1,
     "metadata": {},
     "source": [
      "Sparse Graphs in Python: Playing with Word Ladders"
     ]
    },
    {
     "cell_type": "markdown",
     "metadata": {},
     "source": [
      "The recent [0.11 release](http://sourceforge.net/projects/scipy/files/) of scipy includes several new features,\n",
      "one of which is the [sparse graph submodule](http://docs.scipy.org/doc/scipy/reference/sparse.csgraph.html)\n",
      "which I contributed, with help from other developers.  I'm pretty excited about this: there are some\n",
      "classic algorithms implemented, and it will open up whole new realms of computational possibilities in Python.\n",
      "\n",
      "Before we start, I should say: this post is based on a [lightning talk](http://pyvideo.org/video/1346/lightning-talks-wednesday) I gave\n",
      "at Scipy 2012, and some of the material below comes from a [tutorial](http://docs.scipy.org/doc/scipy/reference/tutorial/csgraph.html)\n",
      "I wrote for the scipy documentation.\n",
      "\n",
      "First: what exactly is a sparse graph?  Well, a graph is just a collection of nodes, which have links between them.\n",
      "[NetworkX](http://networkx.lanl.gov/) has some good examples and diagrams.  Graphs can represent nearly anything:\n",
      "social network connections, where each node is a person and is connected to acquaintences;\n",
      "images, where each node is a pixel and is connected to neighboring pixels; points in a high-dimensional\n",
      "distribution, where each node is connected to its nearest neighbors; and practically anything else you can\n",
      "imagine.\n",
      "\n",
      "One very efficient way to represent graph data is in a sparse matrix: let's call it ``G``.  The matrix ``G`` is of size ``N x N``,\n",
      "and ``G[i, j]`` gives the value of the connection between node ``i`` and node ``j``.  A sparse graph contains\n",
      "mostly zeros: that is, most nodes have only a few connections.  This property turns out to be true in most cases of\n",
      "interest.\n",
      "\n",
      "The creation of the sparse graph submodule was motivated by several algorithms used in scikit-learn, including:\n",
      "\n",
      "- Isomap: a manifold learning algorithm which requires finding the shortest paths in a graph\n",
      "- Hierarchical clustering: a clustering algorithm based on a minimum spanning tree\n",
      "- Spectral Decomposition: a projection algorithm based on sparse graph laplacians\n",
      "\n",
      "And many more.\n"
     ]
    },
    {
     "cell_type": "markdown",
     "metadata": {},
     "source": [
      "Let's take a look at the package, and some of the algorithms available.\n",
      "Remember, this requires at least Scipy version 0.11, which was\n",
      "released in September 2012."
     ]
    },
    {
     "cell_type": "code",
     "collapsed": false,
     "input": [
      "# First the preliminaries: enter pylab inline mode, do some imports\n",
      "%pylab inline\n",
      "import numpy as np\n",
      "from scipy.sparse import csgraph"
     ],
     "language": "python",
     "metadata": {},
     "outputs": [
      {
       "output_type": "stream",
       "stream": "stdout",
       "text": [
        "\n",
        "Welcome to pylab, a matplotlib-based Python environment [backend: module://IPython.zmq.pylab.backend_inline].\n",
        "For more information, type 'help(pylab)'.\n"
       ]
      }
     ],
     "prompt_number": 1
    },
    {
     "cell_type": "markdown",
     "metadata": {},
     "source": [
      "Let's first list all the routines available in the module:"
     ]
    },
    {
     "cell_type": "code",
     "collapsed": false,
     "input": [
      "csgraph.__all__"
     ],
     "language": "python",
     "metadata": {},
     "outputs": [
      {
       "output_type": "pyout",
       "prompt_number": 2,
       "text": [
        "['cs_graph_components',\n",
        " 'connected_components',\n",
        " 'laplacian',\n",
        " 'shortest_path',\n",
        " 'floyd_warshall',\n",
        " 'dijkstra',\n",
        " 'bellman_ford',\n",
        " 'johnson',\n",
        " 'breadth_first_order',\n",
        " 'depth_first_order',\n",
        " 'breadth_first_tree',\n",
        " 'depth_first_tree',\n",
        " 'minimum_spanning_tree',\n",
        " 'construct_dist_matrix',\n",
        " 'reconstruct_path',\n",
        " 'csgraph_from_dense',\n",
        " 'csgraph_masked_from_dense',\n",
        " 'csgraph_to_dense',\n",
        " 'csgraph_to_masked',\n",
        " 'NegativeCycleError']"
       ]
      }
     ],
     "prompt_number": 2
    },
    {
     "cell_type": "markdown",
     "metadata": {},
     "source": [
      "Lots of good stuff there!  In order to show the utility of these routines, I'd like to introduce\n",
      "an example of a problem that can be quite interesting: word ladders."
     ]
    },
    {
     "cell_type": "heading",
     "level": 2,
     "metadata": {},
     "source": [
      "Example: Word Ladders"
     ]
    },
    {
     "cell_type": "markdown",
     "metadata": {},
     "source": [
      "[Word ladders](http://en.wikipedia.org/wiki/Word_ladder) are a game invented by Lewis Carroll, in which words are linked\n",
      "by changing a single letter at each step.  For example:\n",
      "\n",
      "    APE -> APT -> AIT -> BIT -> BIG -> BAG -> MAG -> MAN\n",
      "\n",
      "Here we have gone from \"APE\" to \"MAN\" in seven steps, changing one\n",
      "letter each time.  The question is, can\n",
      "we find a shorter path between these words using the same rules?\n",
      "As we'll see below, this problem is naturally expressed as a\n",
      "sparse graph problem.  The nodes will correspond to individual words,\n",
      "and we'll create connections\n",
      "between words that differ by at most one letter."
     ]
    },
    {
     "cell_type": "heading",
     "level": 3,
     "metadata": {},
     "source": [
      "Obtaining a List of Words"
     ]
    },
    {
     "cell_type": "markdown",
     "metadata": {},
     "source": [
      "First, of course, we must obtain a list of valid words.  I'm running Ubuntu Linux, and\n",
      "Linux has a word dictionary at the location below.  If you're on a different architecture,\n",
      "you may have to search a bit to find your system dictionary.  But it's there somewhere..."
     ]
    },
    {
     "cell_type": "code",
     "collapsed": false,
     "input": [
      "wordlist = open('/usr/share/dict/words').read().split()\n",
      "len(wordlist)"
     ],
     "language": "python",
     "metadata": {},
     "outputs": [
      {
       "output_type": "pyout",
       "prompt_number": 3,
       "text": [
        "99171"
       ]
      }
     ],
     "prompt_number": 3
    },
    {
     "cell_type": "markdown",
     "metadata": {},
     "source": [
      "Our dictionary contains nearly 100,000 words.  We need to reduce these to just\n",
      "the three-letter words, and also remove invalid words like acronyms, proper\n",
      "nouns, and contractions.  We'll do that the following way:"
     ]
    },
    {
     "cell_type": "code",
     "collapsed": false,
     "input": [
      "wordlist = filter(lambda w: len(w) == 3, wordlist) # keep 3-letter words\n",
      "wordlist = filter(str.isalpha, wordlist) # no punctuation\n",
      "wordlist = filter(str.islower, wordlist) # no proper nouns or acronyms\n",
      "\n",
      "wordlist = np.sort(wordlist)\n",
      "wordlist.shape"
     ],
     "language": "python",
     "metadata": {},
     "outputs": [
      {
       "output_type": "pyout",
       "prompt_number": 4,
       "text": [
        "(585,)"
       ]
      }
     ],
     "prompt_number": 4
    },
    {
     "cell_type": "markdown",
     "metadata": {},
     "source": [
      "We're left with 585 three-letter words.\n",
      "\n",
      "Next we need to figure out how to efficiently find all pairs of\n",
      "words which differ by a single letter.  We'll do that with some\n",
      "hard-core numpy type-wrangling, by converting the 3-letter words\n",
      "into a [585 x 3] matrix of numbers:"
     ]
    },
    {
     "cell_type": "code",
     "collapsed": false,
     "input": [
      "word_bytes = np.ndarray((wordlist.size, wordlist.itemsize),\n",
      "                        dtype='int8',\n",
      "                        buffer=wordlist.data)\n",
      "word_bytes.shape"
     ],
     "language": "python",
     "metadata": {},
     "outputs": [
      {
       "output_type": "pyout",
       "prompt_number": 5,
       "text": [
        "(585, 3)"
       ]
      }
     ],
     "prompt_number": 5
    },
    {
     "cell_type": "markdown",
     "metadata": {},
     "source": [
      "Here we've converted the raw bytes of the characters to 8-bit integers.  This sort of strategy\n",
      "can be dangerous if you're not careful with your types, but in this instance it works fine."
     ]
    },
    {
     "cell_type": "heading",
     "level": 3,
     "metadata": {},
     "source": [
      "Word Ladders as a Graph"
     ]
    },
    {
     "cell_type": "markdown",
     "metadata": {},
     "source": [
      "With our preliminary processing out of the way, we can get to the interesting\n",
      "part.  We now have 585 points in three dimensions, and want to link all points\n",
      "that differ in a single dimension.  One nice way to do this is to use the\n",
      "hamming distance in scipy: it does precisely this:"
     ]
    },
    {
     "cell_type": "code",
     "collapsed": false,
     "input": [
      "from scipy.spatial.distance import pdist, squareform\n",
      "from scipy import sparse\n",
      "\n",
      "hamming_dist = pdist(word_bytes, metric='hamming')\n",
      "graph = sparse.csr_matrix(squareform(hamming_dist < 1.01 / wordlist.itemsize))\n",
      "\n",
      "graph.shape"
     ],
     "language": "python",
     "metadata": {},
     "outputs": [
      {
       "output_type": "pyout",
       "prompt_number": 6,
       "text": [
        "(585, 585)"
       ]
      }
     ],
     "prompt_number": 6
    },
    {
     "cell_type": "markdown",
     "metadata": {},
     "source": [
      "We're left with a 585 x 585 graph of our word data.  To get a feeling for what \n",
      "this looks like, let's visualize it with matplotlib"
     ]
    },
    {
     "cell_type": "code",
     "collapsed": false,
     "input": [
      "fig = plt.figure(figsize=(8, 8))\n",
      "ax = fig.add_subplot(1, 1, 1)\n",
      "ax.matshow(graph.toarray(), cmap=plt.cm.binary)\n",
      "\n",
      "# Label axes with the words\n",
      "def formatfunc(x, *args):\n",
      "    if x % 1 != 0:\n",
      "        return ''\n",
      "    else:\n",
      "        return wordlist[max(0, min(int(x), graph.shape[0] - 1))]\n",
      "\n",
      "ax.xaxis.set_major_formatter(plt.FuncFormatter(formatfunc))\n",
      "ax.yaxis.set_major_formatter(plt.FuncFormatter(formatfunc))"
     ],
     "language": "python",
     "metadata": {},
     "outputs": [
      {
       "output_type": "display_data",
       "png": "[encoded data removed]",
       "text": [
        "<matplotlib.figure.Figure at 0x2729610>"
       ]
      }
     ],
     "prompt_number": 7
    },
    {
     "cell_type": "markdown",
     "metadata": {},
     "source": [
      "There's some interesting structure in this graph!  The blocks along the diagonal\n",
      "indicate groups of words which are closely related: for instance, \"cut\", \"cot\", \"cat\", \"can\", \"con\",\n",
      "etc. are all near each other in alphabetical order, and share many links: this creates a dark\n",
      "blob on the diagonal.\n",
      "\n",
      "We also see line patterns off the diagonal.  These are the result of words which differ by their first\n",
      "letter: For example \"tan\" is linked to \"can\", and \"ton\" is linked to \"con\".  Using matplotlib's\n",
      "interactive plotting functionality and zooming around this graph can be a pretty interesting exercise,\n",
      "and help you gain intuition into the connections between these words."
     ]
    },
    {
     "cell_type": "heading",
     "level": 3,
     "metadata": {},
     "source": [
      "Finding the Shortest Path: Dijkstra's Algorithm"
     ]
    },
    {
     "cell_type": "markdown",
     "metadata": {},
     "source": [
      "Now let's return to our problem: finding the shortest path from \"APE\" to \"MAN\".\n",
      "This is now a graph optimization problem, in which we hope to find the shortest\n",
      "path from one node to another along the graph.  A well-known algorithm to\n",
      "accomplish this task is Dyjkstra's algorithm, which is based on [Dynamic Programming](http://jakevdp.github.com/blog/2012/09/12/dynamic-programming-in-python/)\n",
      "principles.  Dijkstra's algorithm is build into the new ``csgraph`` package, and can be used as\n",
      "follows.\n",
      "\n",
      "First we need to find the indices of the two words in question:"
     ]
    },
    {
     "cell_type": "code",
     "collapsed": false,
     "input": [
      "i1 = wordlist.searchsorted('ape')\n",
      "print(i1, wordlist[i1])\n",
      "\n",
      "i2 = wordlist.searchsorted('man')\n",
      "print(i2, wordlist[i2])"
     ],
     "language": "python",
     "metadata": {},
     "outputs": [
      {
       "output_type": "stream",
       "stream": "stdout",
       "text": [
        "(22, 'ape')\n",
        "(310, 'man')\n"
       ]
      }
     ],
     "prompt_number": 8
    },
    {
     "cell_type": "markdown",
     "metadata": {},
     "source": [
      "Next we'll call the ``shortest_path`` function, which calls Dijkstra's algorithm under the hood:"
     ]
    },
    {
     "cell_type": "code",
     "collapsed": false,
     "input": [
      "distances, predecessors = csgraph.shortest_path(graph, return_predecessors=True)\n",
      "\"distance from '%s' to '%s': %i steps\" % (wordlist[i1], wordlist[i2], distances[i1, i2])"
     ],
     "language": "python",
     "metadata": {},
     "outputs": [
      {
       "output_type": "pyout",
       "prompt_number": 9,
       "text": [
        "\"distance from 'ape' to 'man': 5 steps\""
       ]
      }
     ],
     "prompt_number": 9
    },
    {
     "cell_type": "markdown",
     "metadata": {},
     "source": [
      "We found a path of length 5 steps!  This is shorter than the seven steps above.\n",
      "The steps taken are stored in the predecessor list:"
     ]
    },
    {
     "cell_type": "code",
     "collapsed": false,
     "input": [
      "i = i1\n",
      "while i != i2:\n",
      "    print(wordlist[i])\n",
      "    i = predecessors[i2, i]\n",
      "print(wordlist[i2])"
     ],
     "language": "python",
     "metadata": {},
     "outputs": [
      {
       "output_type": "stream",
       "stream": "stdout",
       "text": [
        "ape\n",
        "apt\n",
        "opt\n",
        "oat\n",
        "mat\n",
        "man\n"
       ]
      }
     ],
     "prompt_number": 10
    },
    {
     "cell_type": "heading",
     "level": 3,
     "metadata": {},
     "source": [
      "Finding the Longest Minimal Path"
     ]
    },
    {
     "cell_type": "markdown",
     "metadata": {},
     "source": [
      "Another question we can ask is this: out of all the shortest paths between any two\n",
      "nodes, what is the longest?  That is, which connected words are maximally separated\n",
      "in our linguistic space?  To find out, we can use the distances matrix returned by\n",
      "the algorithm.\n",
      "\n",
      "If any words have no path between them, the algorithm returns infinity.  We don't care about\n",
      "the infinities here, so we'll mask them out and ask what the longest distance is:"
     ]
    },
    {
     "cell_type": "code",
     "collapsed": false,
     "input": [
      "np.ma.masked_invalid(distances).max()"
     ],
     "language": "python",
     "metadata": {},
     "outputs": [
      {
       "output_type": "pyout",
       "prompt_number": 11,
       "text": [
        "13.0"
       ]
      }
     ],
     "prompt_number": 11
    },
    {
     "cell_type": "markdown",
     "metadata": {},
     "source": [
      "Evidently there exist words that cannot be linked in fewer than 13 steps!\n",
      "Let's see which ones they are:"
     ]
    },
    {
     "cell_type": "code",
     "collapsed": false,
     "input": [
      "i1, i2 = np.where(distances == 13)\n",
      "unique_paths = (i1 < i2)\n",
      "zip(wordlist[i1][unique_paths], wordlist[i2][unique_paths])"
     ],
     "language": "python",
     "metadata": {},
     "outputs": [
      {
       "output_type": "pyout",
       "prompt_number": 12,
       "text": [
        "[('imp', 'ohm'), ('imp', 'ohs'), ('ohm', 'ump'), ('ohs', 'ump')]"
       ]
      }
     ],
     "prompt_number": 12
    },
    {
     "cell_type": "markdown",
     "metadata": {},
     "source": [
      "We have four pairs of words, and examining them, we see that the paths go from\n",
      "one pair, \"imp\" and \"ump\", to another pair, \"ohm\" and \"ohs\".  We'll use the same\n",
      "trick as above to list the links between two of these:"
     ]
    },
    {
     "cell_type": "code",
     "collapsed": false,
     "input": [
      "i = i2[0]\n",
      "while i != i1[0]:\n",
      "    print(wordlist[i])\n",
      "    i = predecessors[i1[0], i]\n",
      "print(wordlist[i])"
     ],
     "language": "python",
     "metadata": {},
     "outputs": [
      {
       "output_type": "stream",
       "stream": "stdout",
       "text": [
        "ohm\n",
        "oho\n",
        "tho\n",
        "too\n",
        "moo\n",
        "mod\n",
        "mid\n",
        "aid\n",
        "add\n",
        "ads\n",
        "ass\n",
        "asp\n",
        "amp\n",
        "imp\n"
       ]
      }
     ],
     "prompt_number": 13
    },
    {
     "cell_type": "heading",
     "level": 3,
     "metadata": {},
     "source": [
      "Connected Components"
     ]
    },
    {
     "cell_type": "markdown",
     "metadata": {},
     "source": [
      "Finally, we can ask about connected components of the graph.  There are likely\n",
      "\"islands\" in the word graph which can't be reached from the majority of words,\n",
      "and we'd like to see what these are.  To do this, we can use the ``connected_componets``\n",
      "routine:"
     ]
    },
    {
     "cell_type": "code",
     "collapsed": false,
     "input": [
      "n_components, component_list = csgraph.connected_components(graph)\n",
      "n_components"
     ],
     "language": "python",
     "metadata": {},
     "outputs": [
      {
       "output_type": "pyout",
       "prompt_number": 14,
       "text": [
        "14"
       ]
      }
     ],
     "prompt_number": 14
    },
    {
     "cell_type": "markdown",
     "metadata": {},
     "source": [
      "This shows us that we have 14 distinct components: 14 islands of words with no paths between them.\n",
      "Let's see how big these islands are:"
     ]
    },
    {
     "cell_type": "code",
     "collapsed": false,
     "input": [
      "[np.sum(component_list == i) for i in range(14)]"
     ],
     "language": "python",
     "metadata": {},
     "outputs": [
      {
       "output_type": "pyout",
       "prompt_number": 15,
       "text": [
        "[571, 1, 1, 1, 2, 1, 1, 1, 1, 1, 1, 1, 1, 1]"
       ]
      }
     ],
     "prompt_number": 15
    },
    {
     "cell_type": "markdown",
     "metadata": {},
     "source": [
      "We see that the bulk of three letter words are connected: the main set of 571 has\n",
      "paths to all others in that set.  The interesting words are the ones all by\n",
      "themselves:"
     ]
    },
    {
     "cell_type": "code",
     "collapsed": false,
     "input": [
      "[list(wordlist[np.where(component_list == i)]) for i in range(1, 14)]"
     ],
     "language": "python",
     "metadata": {},
     "outputs": [
      {
       "output_type": "pyout",
       "prompt_number": 16,
       "text": [
        "[['aha'],\n",
        " ['chi'],\n",
        " ['ebb'],\n",
        " ['ems', 'emu'],\n",
        " ['gnu'],\n",
        " ['ism'],\n",
        " ['nth'],\n",
        " ['ova'],\n",
        " ['qua'],\n",
        " ['ugh'],\n",
        " ['ups'],\n",
        " ['urn'],\n",
        " ['use']]"
       ]
      }
     ],
     "prompt_number": 16
    },
    {
     "cell_type": "markdown",
     "metadata": {},
     "source": [
      "These are all the three-letter \"loner\" words, which can't reach any other valid\n",
      "words through the changing of a single letter."
     ]
    },
    {
     "cell_type": "heading",
     "level": 3,
     "metadata": {},
     "source": [
      "More: Minimum Spanning Tree, Depth-first search, Breadth-first search..."
     ]
    },
    {
     "cell_type": "markdown",
     "metadata": {},
     "source": [
      "There's much more we could do from here.  We could use the Minimum Spanning Tree\n",
      "algorithm to do hierarchical clustering of the words.  We could create a depth-first\n",
      "or breadth-first tree.  We could repeat everything above on words of length 4 or\n",
      "length 5...  if you feel inclined, check out ``scipy.sparse.csgraph`` in **scipy v. 0.12**!\n",
      "\n",
      "This post was written entirely in an IPython Notebook: the notebook file is available for download here:\n",
      "[sparse-graph.ipynb](http://jakevdp.github.com/downloads/notebooks/sparse-graph.ipynb).\n",
      "For more information on blogging with notebooks in octopress, see my\n",
      "[previous post](http://jakevdp.github.com/blog/2012/10/04/blogging-with-ipython/) on the subject.\n",
      "\n",
      "Oh, and one challenge for all the over-achievers out there: how many steps does it take\n",
      "to get from \"Guido\" to \"Python\" using English language words?\n",
      "First to give the answer wins... well, nothing, actually.\n",
      "What can I say.  I do this for free.\n",
      "\n",
      "Happy coding!"
     ]
    }
   ],
   "metadata": {}
  }
 ]
}