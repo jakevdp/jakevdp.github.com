{
 "metadata": {
  "name": "nb_in_octopress"
 },
 "nbformat": 3,
 "nbformat_minor": 0,
 "worksheets": [
  {
   "cells": [
    {
     "cell_type": "markdown",
     "metadata": {},
     "source": [
      "A few weeks ago, Fernando Perez, the creator of IPython, wrote a [post](http://blog.fperez.org/2012/09/blogging-with-ipython-notebook.html) about blogging with IPython notebooks.  I decided to take a stab at making this work in Octopress.\n",
      "\n",
      "I started by following Fernando's outline:  I first went to [http://github.com/ipython/nbconvert](http://github.com/ipython/nbconvert) and obtained the current version of the notebook converter.  Running ``nbconvert.py -f blogger-html filename.ipynb`` produces a separate html and header file with the notebook content.  I inserted the stylesheet info into my header (in octopress, the default location is ``source/_includes/custom/head.html``) and copied the html directly into my post.\n",
      "\n",
      "I immediately encountered a problem.  ``nbconvert`` uses global CSS classes and style markups, and some of these (notably the \"hightlight\" class and the ``<pre>`` tag formatting) conflict with styles defined in my octopress theme.  The result was that every post in my blog ended up looking like an ugly hybrid of octopress and an ipython notebook.  Not very nice.\n",
      "\n",
      "So I did some surgery.  Admittedly, this is a terrible hack, but the following code takes the files output by nbconvert, slices them up, and creates a specific set of CSS classes for the notebook markup, such that there's no longer a conflict with the native octopress styles\n",
      "(you can download this script [here](http://jakevdp.github.com/downloads/code/convert_notebook.py)):"
     ]
    },
    {
     "cell_type": "code",
     "collapsed": false,
     "input": [
      "#!/usr/bin/python\n",
      "import os\n",
      "import sys\n",
      "\n",
      "try:\n",
      "    nbconvert = sys.argv[1]\n",
      "    notebook = sys.argv[2]\n",
      "except:\n",
      "    print \"usage: python octopress_notebook.py  /path/to/nbconvert.py  /path/to/notebook_file.ipynb\"\n",
      "    sys.exit(-1)\n",
      "\n",
      "# convert notebook\n",
      "os.system('%s -f blogger-html %s' % (nbconvert, notebook))\n",
      "\n",
      "# get out filenames\n",
      "outfile_root = os.path.splitext(notebook)[0]\n",
      "body_file = outfile_root + '.html'\n",
      "header_file = outfile_root + '_header.html'\n",
      "\n",
      "\n",
      "# read the files\n",
      "body = open(body_file).read()\n",
      "header = open(header_file).read()\n",
      "\n",
      "\n",
      "# replace the highlight tags\n",
      "body = body.replace('class=\"highlight\"', 'class=\"highlight-ipynb\"')\n",
      "header = header.replace('highlight', 'highlight-ipynb')\n",
      "\n",
      "\n",
      "# specify <pre> tags\n",
      "body = body.replace('<pre', '<pre class=\"ipynb\"')\n",
      "header = header.replace('html, body', '\\n'.join(('pre.ipynb {',\n",
      "                                                 '  color: black;',\n",
      "                                                 '  background: #f7f7f7;',\n",
      "                                                 '  border: 0;',\n",
      "                                                 '  box-shadow: none;',\n",
      "                                                 '  margin-bottom: 0;',\n",
      "                                                 '  padding: 0;'\n",
      "                                                 '}\\n',\n",
      "                                                 'html, body')))\n",
      "\n",
      "\n",
      "# create a special div for notebook\n",
      "body = '<div class=\"ipynb\">\\n\\n' + body + \"\\n\\n</div>\"\n",
      "header = header.replace('body {', 'div.ipynb {')\n",
      "\n",
      "\n",
      "# specialize headers\n",
      "header = header.replace('html, body,',\n",
      "                        '\\n'.join((('h1.ipynb h2.ipynb h3.ipynb '\n",
      "                                    'h4.ipynb h5.ipynb h6.ipynb {'),\n",
      "                                   'h1.ipynb h2.ipynb ... {',\n",
      "                                   '  margin: 0;',\n",
      "                                   '  padding: 0;',\n",
      "                                   '  border: 0;',\n",
      "                                   '  font-size: 100%;',\n",
      "                                   '  font: inherit;',\n",
      "                                   '  vertical-align: baseline;',\n",
      "                                   '}\\n',\n",
      "                                   'html, body,')))\n",
      "for h in '123456':\n",
      "    body = body.replace('<h%s' % h, '<h%s class=\"ipynb\"' % h)\n",
      "\n",
      "\n",
      "# comment out document-level formatting\n",
      "header = header.replace('html, body,',\n",
      "                        '/*html, body,*/')\n",
      "header = header.replace('h1, h2, h3, h4, h5, h6,',\n",
      "                        '/*h1, h2, h3, h4, h5, h6,*/')\n",
      "\n",
      "#----------------------------------------------------------------------\n",
      "# Write the results to file\n",
      "open(body_file, 'w').write(body)\n",
      "open(header_file, 'w').write(header)\n"
     ],
     "language": "python",
     "metadata": {},
     "outputs": []
    },
    {
     "cell_type": "markdown",
     "metadata": {},
     "source": [
      "This code should be run with two arguments: first the file to be converted, then the path to ``nbconvert.py``.  Like the native ``nbconvert.py`` this produces a separate file of header code (which is inserted once into the  master blog header) and body code which can be copied verbatim into the post."
     ]
    },
    {
     "cell_type": "heading",
     "level": 2,
     "metadata": {},
     "source": [
      "Trying it out"
     ]
    },
    {
     "cell_type": "markdown",
     "metadata": {},
     "source": [
      "If you haven't noticed already, this post is written entirely in an IPython notebook.  So let's see how some things look."
     ]
    },
    {
     "cell_type": "markdown",
     "metadata": {},
     "source": [
      "First of all, we can write some math, which is rendered using mathjax:\n",
      "\n",
      "$f(x) = \\int_0^\\infty \\left(\\frac{\\sin(x)}{x^2}\\right)dx$\n",
      "\n",
      "As we see, it renders nicely.\n",
      "\n",
      "Or we can do some inline plotting:"
     ]
    },
    {
     "cell_type": "code",
     "collapsed": false,
     "input": [
      "%pylab inline"
     ],
     "language": "python",
     "metadata": {},
     "outputs": [
      {
       "output_type": "stream",
       "stream": "stdout",
       "text": [
        "\n",
        "Welcome to pylab, a matplotlib-based Python environment [backend: module://IPython.zmq.pylab.backend_inline].\n",
        "For more information, type 'help(pylab)'.\n"
       ]
      }
     ],
     "prompt_number": 1
    },
    {
     "cell_type": "code",
     "collapsed": false,
     "input": [
      "import numpy as np\n",
      "x = np.linspace(0, 10, 100)\n",
      "pylab.plot(x, np.sin(x))"
     ],
     "language": "python",
     "metadata": {},
     "outputs": [
      {
       "output_type": "pyout",
       "prompt_number": 2,
       "text": [
        "[<matplotlib.lines.Line2D at 0x2cdba90>]"
       ]
      },
      {
       "output_type": "display_data",
       "png": "[encoded data removed]",
       "text": [
        "<matplotlib.figure.Figure at 0x2caf390>"
       ]
      }
     ],
     "prompt_number": 2
    },
    {
     "cell_type": "markdown",
     "metadata": {},
     "source": [
      "You can do pretty much anything else a notebook does as well.  The IPython team did the hard part."
     ]
    },
    {
     "cell_type": "heading",
     "level": 2,
     "metadata": {},
     "source": [
      "Where to go from here?"
     ]
    },
    {
     "cell_type": "markdown",
     "metadata": {},
     "source": [
      "There's clearly a cleaner way to do this.  If the IPython team would be open to the idea, I think their HTML stylesheets should be modified so that notebooks can be embedded within any CSS framework with as few conflicts as possible.  This means getting rid of all top-level formatting in the style-sheets, and removing potentially common class names like \"highlight\".  Once this is done, ``nbconvert.py`` could output this directly, obviating the need for my unforgivable hack shown above.\n",
      "\n",
      "Second, I'd love to build notebook support directly into octopress.  If ``nbconvert.py`` is available on the user's system, it could be called directly from the Ruby script that generates Octopress HTML.  I have about as much experience with Ruby as I do with Swahili (read: None) so this would take some work for me.  I'd be happy to pass the baton to any Octopress gurus out there...\n",
      "\n",
      "Either of those options will smooth out the notebook/blogging combo considerably, and give me the potential to prognosticate Python in perpetuum.\n",
      "By the way, the notebook used to generate this page can be downloaded [here](http://jakevdp.github.com/downloads/notebooks/nb_in_octopress.ipynb).  Happy coding!"
     ]
    }
   ],
   "metadata": {}
  }
 ]
}